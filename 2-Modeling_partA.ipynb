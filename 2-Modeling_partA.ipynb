{
 "cells": [
  {
   "cell_type": "code",
   "execution_count": 1,
   "metadata": {},
   "outputs": [],
   "source": [
    "import numpy as np\n",
    "import pandas as pd\n",
    "\n",
    "import matplotlib.pyplot as plt\n",
    "% matplotlib inline"
   ]
  },
  {
   "cell_type": "code",
   "execution_count": 2,
   "metadata": {},
   "outputs": [
    {
     "data": {
      "text/html": [
       "<div>\n",
       "<style scoped>\n",
       "    .dataframe tbody tr th:only-of-type {\n",
       "        vertical-align: middle;\n",
       "    }\n",
       "\n",
       "    .dataframe tbody tr th {\n",
       "        vertical-align: top;\n",
       "    }\n",
       "\n",
       "    .dataframe thead th {\n",
       "        text-align: right;\n",
       "    }\n",
       "</style>\n",
       "<table border=\"1\" class=\"dataframe\">\n",
       "  <thead>\n",
       "    <tr style=\"text-align: right;\">\n",
       "      <th></th>\n",
       "      <th>perc_premium_paid_by_cash_credit</th>\n",
       "      <th>age_in_days</th>\n",
       "      <th>Income</th>\n",
       "      <th>Count_3-6_months_late</th>\n",
       "      <th>Count_6-12_months_late</th>\n",
       "      <th>Count_more_than_12_months_late</th>\n",
       "      <th>application_underwriting_score</th>\n",
       "      <th>no_of_premiums_paid</th>\n",
       "      <th>premium</th>\n",
       "      <th>logIncome</th>\n",
       "      <th>sourcing_channel_A</th>\n",
       "      <th>sourcing_channel_B</th>\n",
       "      <th>sourcing_channel_C</th>\n",
       "      <th>sourcing_channel_D</th>\n",
       "      <th>sourcing_channel_E</th>\n",
       "      <th>residence_area_type_Rural</th>\n",
       "      <th>residence_area_type_Urban</th>\n",
       "    </tr>\n",
       "  </thead>\n",
       "  <tbody>\n",
       "    <tr>\n",
       "      <th>0</th>\n",
       "      <td>0.917</td>\n",
       "      <td>17531.0</td>\n",
       "      <td>84140.0</td>\n",
       "      <td>2.0</td>\n",
       "      <td>3.0</td>\n",
       "      <td>1.0</td>\n",
       "      <td>98.690000</td>\n",
       "      <td>7.0</td>\n",
       "      <td>3300.0</td>\n",
       "      <td>4.925003</td>\n",
       "      <td>0.0</td>\n",
       "      <td>0.0</td>\n",
       "      <td>1.0</td>\n",
       "      <td>0.0</td>\n",
       "      <td>0.0</td>\n",
       "      <td>1.0</td>\n",
       "      <td>0.0</td>\n",
       "    </tr>\n",
       "    <tr>\n",
       "      <th>1</th>\n",
       "      <td>0.863</td>\n",
       "      <td>18992.0</td>\n",
       "      <td>92450.0</td>\n",
       "      <td>3.0</td>\n",
       "      <td>1.0</td>\n",
       "      <td>2.0</td>\n",
       "      <td>98.770000</td>\n",
       "      <td>11.0</td>\n",
       "      <td>3300.0</td>\n",
       "      <td>4.965907</td>\n",
       "      <td>0.0</td>\n",
       "      <td>1.0</td>\n",
       "      <td>0.0</td>\n",
       "      <td>0.0</td>\n",
       "      <td>0.0</td>\n",
       "      <td>0.0</td>\n",
       "      <td>1.0</td>\n",
       "    </tr>\n",
       "    <tr>\n",
       "      <th>2</th>\n",
       "      <td>0.971</td>\n",
       "      <td>9870.0</td>\n",
       "      <td>31570.0</td>\n",
       "      <td>1.0</td>\n",
       "      <td>1.0</td>\n",
       "      <td>0.0</td>\n",
       "      <td>99.170000</td>\n",
       "      <td>8.0</td>\n",
       "      <td>5700.0</td>\n",
       "      <td>4.499275</td>\n",
       "      <td>1.0</td>\n",
       "      <td>0.0</td>\n",
       "      <td>0.0</td>\n",
       "      <td>0.0</td>\n",
       "      <td>0.0</td>\n",
       "      <td>0.0</td>\n",
       "      <td>1.0</td>\n",
       "    </tr>\n",
       "    <tr>\n",
       "      <th>3</th>\n",
       "      <td>1.000</td>\n",
       "      <td>16065.0</td>\n",
       "      <td>329550.0</td>\n",
       "      <td>0.0</td>\n",
       "      <td>0.0</td>\n",
       "      <td>0.0</td>\n",
       "      <td>99.770000</td>\n",
       "      <td>2.0</td>\n",
       "      <td>18000.0</td>\n",
       "      <td>5.517921</td>\n",
       "      <td>0.0</td>\n",
       "      <td>0.0</td>\n",
       "      <td>0.0</td>\n",
       "      <td>1.0</td>\n",
       "      <td>0.0</td>\n",
       "      <td>0.0</td>\n",
       "      <td>1.0</td>\n",
       "    </tr>\n",
       "    <tr>\n",
       "      <th>4</th>\n",
       "      <td>0.327</td>\n",
       "      <td>21550.0</td>\n",
       "      <td>55360.0</td>\n",
       "      <td>1.0</td>\n",
       "      <td>0.0</td>\n",
       "      <td>0.0</td>\n",
       "      <td>99.055908</td>\n",
       "      <td>22.0</td>\n",
       "      <td>5400.0</td>\n",
       "      <td>4.743196</td>\n",
       "      <td>1.0</td>\n",
       "      <td>0.0</td>\n",
       "      <td>0.0</td>\n",
       "      <td>0.0</td>\n",
       "      <td>0.0</td>\n",
       "      <td>0.0</td>\n",
       "      <td>1.0</td>\n",
       "    </tr>\n",
       "  </tbody>\n",
       "</table>\n",
       "</div>"
      ],
      "text/plain": [
       "   perc_premium_paid_by_cash_credit  age_in_days    Income  \\\n",
       "0                             0.917      17531.0   84140.0   \n",
       "1                             0.863      18992.0   92450.0   \n",
       "2                             0.971       9870.0   31570.0   \n",
       "3                             1.000      16065.0  329550.0   \n",
       "4                             0.327      21550.0   55360.0   \n",
       "\n",
       "   Count_3-6_months_late  Count_6-12_months_late  \\\n",
       "0                    2.0                     3.0   \n",
       "1                    3.0                     1.0   \n",
       "2                    1.0                     1.0   \n",
       "3                    0.0                     0.0   \n",
       "4                    1.0                     0.0   \n",
       "\n",
       "   Count_more_than_12_months_late  application_underwriting_score  \\\n",
       "0                             1.0                       98.690000   \n",
       "1                             2.0                       98.770000   \n",
       "2                             0.0                       99.170000   \n",
       "3                             0.0                       99.770000   \n",
       "4                             0.0                       99.055908   \n",
       "\n",
       "   no_of_premiums_paid  premium  logIncome  sourcing_channel_A  \\\n",
       "0                  7.0   3300.0   4.925003                 0.0   \n",
       "1                 11.0   3300.0   4.965907                 0.0   \n",
       "2                  8.0   5700.0   4.499275                 1.0   \n",
       "3                  2.0  18000.0   5.517921                 0.0   \n",
       "4                 22.0   5400.0   4.743196                 1.0   \n",
       "\n",
       "   sourcing_channel_B  sourcing_channel_C  sourcing_channel_D  \\\n",
       "0                 0.0                 1.0                 0.0   \n",
       "1                 1.0                 0.0                 0.0   \n",
       "2                 0.0                 0.0                 0.0   \n",
       "3                 0.0                 0.0                 1.0   \n",
       "4                 0.0                 0.0                 0.0   \n",
       "\n",
       "   sourcing_channel_E  residence_area_type_Rural  residence_area_type_Urban  \n",
       "0                 0.0                        1.0                        0.0  \n",
       "1                 0.0                        0.0                        1.0  \n",
       "2                 0.0                        0.0                        1.0  \n",
       "3                 0.0                        0.0                        1.0  \n",
       "4                 0.0                        0.0                        1.0  "
      ]
     },
     "execution_count": 2,
     "metadata": {},
     "output_type": "execute_result"
    }
   ],
   "source": [
    "X_train_resampled = pd.read_csv('X_train_smoteenn.csv')\n",
    "y_train_resampled = pd.read_csv('y_train_smoteenn.csv')\n",
    "# double check if the data is correct\n",
    "X_train_resampled.head(5)"
   ]
  },
  {
   "cell_type": "code",
   "execution_count": 3,
   "metadata": {},
   "outputs": [],
   "source": [
    "from sklearn.decomposition import PCA\n",
    "from sklearn.preprocessing import StandardScaler\n",
    "from sklearn.model_selection import train_test_split\n",
    "\n",
    "scaler = StandardScaler()\n",
    "scaler.fit(X_train_resampled.as_matrix())\n",
    "X_scaled = scaler.transform(X_train_resampled)"
   ]
  },
  {
   "cell_type": "code",
   "execution_count": 4,
   "metadata": {},
   "outputs": [
    {
     "name": "stderr",
     "output_type": "stream",
     "text": [
      "/Users/jessie/anaconda3/lib/python3.5/site-packages/h5py/__init__.py:36: FutureWarning: Conversion of the second argument of issubdtype from `float` to `np.floating` is deprecated. In future, it will be treated as `np.float64 == np.dtype(float).type`.\n",
      "  from ._conv import register_converters as _register_converters\n",
      "Using TensorFlow backend.\n"
     ]
    }
   ],
   "source": [
    "from keras.models import Sequential\n",
    "from keras.layers import Dense\n",
    "from keras.wrappers.scikit_learn import KerasClassifier\n",
    "from sklearn.model_selection import cross_val_score\n",
    "from sklearn.model_selection import KFold\n",
    "from sklearn.preprocessing import StandardScaler\n",
    "from sklearn.model_selection import StratifiedKFold\n",
    "from sklearn.preprocessing import LabelEncoder\n",
    "from sklearn.pipeline import Pipeline\n",
    "from sklearn.metrics import roc_auc_score, roc_curve, auc\n",
    "from sklearn import svm\n",
    "from sklearn.ensemble import RandomForestRegressor\n",
    "from keras.callbacks import EarlyStopping"
   ]
  },
  {
   "cell_type": "code",
   "execution_count": 5,
   "metadata": {},
   "outputs": [],
   "source": [
    "def create_baseline(n_features):\n",
    "    # create model\n",
    "    model = Sequential()\n",
    "    model.add(Dense(2*n_features, input_dim=n_features, kernel_initializer='normal', activation='sigmoid'))\n",
    "    model.add(Dense(n_features//2, input_dim=2*n_features, kernel_initializer='normal', activation='sigmoid'))\n",
    "    model.add(Dense(n_features, input_dim=n_features//2, kernel_initializer='normal', activation='sigmoid'))\n",
    "    model.add(Dense(1, kernel_initializer='normal', activation='sigmoid'))\n",
    "    # Compile model\n",
    "    model.compile(loss='binary_crossentropy', optimizer='adam', metrics=['accuracy'])\n",
    "    return model"
   ]
  },
  {
   "cell_type": "code",
   "execution_count": 6,
   "metadata": {},
   "outputs": [],
   "source": [
    "def fit_and_roc(name,x_train, y_train, x_valid, y_valid):\n",
    "    # fit model using SVM, ANN or Random Forest\n",
    "    # input name: string, specify the name of machine learning model to be applied\n",
    "    #       x_train, y_train, x_valid, y_valid: dataframe for training and validation\n",
    "    # output(the function will automaticlly plot AUC curve) model: a model object with \"predict\" function\n",
    "    if name == \"ann\":\n",
    "        n_features = x_train.shape[1]\n",
    "        model = create_baseline(n_features)\n",
    "        callback = EarlyStopping(\"val_loss\", patience=1, verbose=0, mode='auto')\n",
    "        model.fit(\n",
    "                X_train, y_train,\n",
    "                nb_epoch=20, batch_size=25,\n",
    "                validation_data=(X_valid, y_valid),\n",
    "                callbacks=[callback], verbose = 1)\n",
    "    elif name == 'svm':\n",
    "        model = svm.SVC(probability=True)\n",
    "        model.fit(x_train, y_train)\n",
    "    elif name == 'rf':\n",
    "        model = RandomForestRegressor(n_jobs=2, n_estimators=150)\n",
    "        model.fit(x_train, y_train)\n",
    "        # evaluate training error\n",
    "    y_train_pred = model.predict(x_train)\n",
    "    y_train_prob = model.predict_proba(x_train)[:, 0]\n",
    "\n",
    "    fpr, tpr, thresholds = roc_curve(y_train, y_train_prob, pos_label=1)\n",
    "    if name == 'svm':\n",
    "        fpr = 1-fpr\n",
    "        tpr = 1-tpr\n",
    "    roc_auc = auc(fpr, tpr)\n",
    "    \n",
    "    # evaluate testing error\n",
    "    y_test_pred = model.predict(x_valid)\n",
    "    y_test_prob = model.predict_proba(x_valid)[:, 0]\n",
    "    \n",
    "    fpr_test, tpr_test, threshold_test = roc_curve(y_valid, y_test_prob, pos_label=1)\n",
    "    if name == 'svm':\n",
    "        fpr_test = 1-fpr_test\n",
    "        tpr_test = 1-tpr_test\n",
    "    roc_auc_test = auc(fpr_test, tpr_test)\n",
    "    \n",
    "    # plot roc\n",
    "    plt.figure(figsize=(5, 5))\n",
    "    plt.plot(fpr, tpr, \\\n",
    "             color='darkorange', lw=2, linestyle='-', label='Training ROC Curve (area = {0:.2f})'.format(roc_auc))\n",
    "    plt.plot(fpr_test, tpr_test, \\\n",
    "             color='deeppink', lw=2, linestyle='-', label='Testing ROC Curve (area = {0:.2f})'.format(roc_auc_test))\n",
    "    plt.plot([0,1], [0,1], 'k--')\n",
    "    plt.xlim([0.0, 1.0])\n",
    "    plt.ylim([0.0, 1.05])\n",
    "    plt.xlabel('False Positive Rate')\n",
    "    plt.ylabel('True Positive Rate')\n",
    "    plt.title('Receiver Operating Characteristic')\n",
    "    plt.legend(loc='lower right')\n",
    "    plt.show()\n",
    "\n",
    "    return model"
   ]
  },
  {
   "cell_type": "code",
   "execution_count": 7,
   "metadata": {},
   "outputs": [
    {
     "name": "stderr",
     "output_type": "stream",
     "text": [
      "/Users/jessie/anaconda3/lib/python3.5/site-packages/sklearn/model_selection/_split.py:2026: FutureWarning: From version 0.21, test_size will always complement train_size unless both are specified.\n",
      "  FutureWarning)\n"
     ]
    }
   ],
   "source": [
    "X_train, X_valid, y_train, y_valid = train_test_split(X_scaled, y_train_resampled['renewal'].values, random_state=666, train_size=0.80)"
   ]
  },
  {
   "cell_type": "code",
   "execution_count": 8,
   "metadata": {},
   "outputs": [
    {
     "name": "stderr",
     "output_type": "stream",
     "text": [
      "/Users/jessie/anaconda3/lib/python3.5/site-packages/keras/models.py:942: UserWarning: The `nb_epoch` argument in `fit` has been renamed `epochs`.\n",
      "  warnings.warn('The `nb_epoch` argument in `fit` '\n"
     ]
    },
    {
     "name": "stdout",
     "output_type": "stream",
     "text": [
      "Train on 81428 samples, validate on 20358 samples\n",
      "Epoch 1/20\n",
      "81428/81428 [==============================] - 11s 139us/step - loss: 0.4634 - acc: 0.7876 - val_loss: 0.4073 - val_acc: 0.8232\n",
      "Epoch 2/20\n",
      "81428/81428 [==============================] - 11s 137us/step - loss: 0.4083 - acc: 0.8212 - val_loss: 0.4015 - val_acc: 0.8249\n",
      "Epoch 3/20\n",
      "81428/81428 [==============================] - 11s 137us/step - loss: 0.4036 - acc: 0.8228 - val_loss: 0.3971 - val_acc: 0.8267\n",
      "Epoch 4/20\n",
      "81428/81428 [==============================] - 11s 138us/step - loss: 0.4019 - acc: 0.8245 - val_loss: 0.3980 - val_acc: 0.8261\n"
     ]
    },
    {
     "data": {
      "image/png": "[encoded data removed]",
      "text/plain": [
       "<Figure size 360x360 with 1 Axes>"
      ]
     },
     "metadata": {},
     "output_type": "display_data"
    }
   ],
   "source": [
    "NN_mode  = fit_and_roc('ann',X_train, y_train, X_valid, y_valid)"
   ]
  },
  {
   "cell_type": "markdown",
   "metadata": {},
   "source": [
    "## Predict renewal probability of test set"
   ]
  },
  {
   "cell_type": "code",
   "execution_count": null,
   "metadata": {},
   "outputs": [],
   "source": []
  }
 ],
 "metadata": {
  "kernelspec": {
   "display_name": "Python 3",
   "language": "python",
   "name": "python3"
  },
  "language_info": {
   "codemirror_mode": {
    "name": "ipython",
    "version": 3
   },
   "file_extension": ".py",
   "mimetype": "text/x-python",
   "name": "python",
   "nbconvert_exporter": "python",
   "pygments_lexer": "ipython3",
   "version": "3.5.5"
  }
 },
 "nbformat": 4,
 "nbformat_minor": 2
}
