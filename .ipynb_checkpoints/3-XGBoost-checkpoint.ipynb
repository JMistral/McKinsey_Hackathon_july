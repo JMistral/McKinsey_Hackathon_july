{
 "cells": [
  {
   "cell_type": "code",
   "execution_count": 1,
   "metadata": {},
   "outputs": [],
   "source": [
    "import numpy as np\n",
    "import pandas as pd\n",
    "\n",
    "import matplotlib.pyplot as plt\n",
    "% matplotlib inline"
   ]
  },
  {
   "cell_type": "code",
   "execution_count": 2,
   "metadata": {},
   "outputs": [
    {
     "data": {
      "text/html": [
       "<div>\n",
       "<style scoped>\n",
       "    .dataframe tbody tr th:only-of-type {\n",
       "        vertical-align: middle;\n",
       "    }\n",
       "\n",
       "    .dataframe tbody tr th {\n",
       "        vertical-align: top;\n",
       "    }\n",
       "\n",
       "    .dataframe thead th {\n",
       "        text-align: right;\n",
       "    }\n",
       "</style>\n",
       "<table border=\"1\" class=\"dataframe\">\n",
       "  <thead>\n",
       "    <tr style=\"text-align: right;\">\n",
       "      <th></th>\n",
       "      <th>perc_premium_paid_by_cash_credit</th>\n",
       "      <th>age_in_days</th>\n",
       "      <th>Count_3-6_months_late</th>\n",
       "      <th>Count_6-12_months_late</th>\n",
       "      <th>Count_more_than_12_months_late</th>\n",
       "      <th>application_underwriting_score</th>\n",
       "      <th>no_of_premiums_paid</th>\n",
       "      <th>premium</th>\n",
       "      <th>logIncome</th>\n",
       "      <th>sourcing_channel_A</th>\n",
       "      <th>sourcing_channel_B</th>\n",
       "      <th>sourcing_channel_C</th>\n",
       "      <th>sourcing_channel_D</th>\n",
       "      <th>sourcing_channel_E</th>\n",
       "      <th>residence_area_type_Rural</th>\n",
       "      <th>residence_area_type_Urban</th>\n",
       "    </tr>\n",
       "  </thead>\n",
       "  <tbody>\n",
       "    <tr>\n",
       "      <th>0</th>\n",
       "      <td>0.917</td>\n",
       "      <td>17531.0</td>\n",
       "      <td>2.0</td>\n",
       "      <td>3.0</td>\n",
       "      <td>1.0</td>\n",
       "      <td>98.69</td>\n",
       "      <td>7.0</td>\n",
       "      <td>3300.0</td>\n",
       "      <td>4.925003</td>\n",
       "      <td>0.0</td>\n",
       "      <td>0.0</td>\n",
       "      <td>1.0</td>\n",
       "      <td>0.0</td>\n",
       "      <td>0.0</td>\n",
       "      <td>1.0</td>\n",
       "      <td>0.0</td>\n",
       "    </tr>\n",
       "    <tr>\n",
       "      <th>1</th>\n",
       "      <td>1.000</td>\n",
       "      <td>21911.0</td>\n",
       "      <td>1.0</td>\n",
       "      <td>6.0</td>\n",
       "      <td>4.0</td>\n",
       "      <td>99.33</td>\n",
       "      <td>3.0</td>\n",
       "      <td>9600.0</td>\n",
       "      <td>5.255851</td>\n",
       "      <td>1.0</td>\n",
       "      <td>0.0</td>\n",
       "      <td>0.0</td>\n",
       "      <td>0.0</td>\n",
       "      <td>0.0</td>\n",
       "      <td>0.0</td>\n",
       "      <td>1.0</td>\n",
       "    </tr>\n",
       "    <tr>\n",
       "      <th>2</th>\n",
       "      <td>0.908</td>\n",
       "      <td>23008.0</td>\n",
       "      <td>2.0</td>\n",
       "      <td>0.0</td>\n",
       "      <td>0.0</td>\n",
       "      <td>98.91</td>\n",
       "      <td>11.0</td>\n",
       "      <td>5400.0</td>\n",
       "      <td>5.030114</td>\n",
       "      <td>1.0</td>\n",
       "      <td>0.0</td>\n",
       "      <td>0.0</td>\n",
       "      <td>0.0</td>\n",
       "      <td>0.0</td>\n",
       "      <td>1.0</td>\n",
       "      <td>0.0</td>\n",
       "    </tr>\n",
       "    <tr>\n",
       "      <th>3</th>\n",
       "      <td>0.000</td>\n",
       "      <td>11687.0</td>\n",
       "      <td>1.0</td>\n",
       "      <td>2.0</td>\n",
       "      <td>1.0</td>\n",
       "      <td>99.53</td>\n",
       "      <td>5.0</td>\n",
       "      <td>9600.0</td>\n",
       "      <td>5.183583</td>\n",
       "      <td>0.0</td>\n",
       "      <td>0.0</td>\n",
       "      <td>1.0</td>\n",
       "      <td>0.0</td>\n",
       "      <td>0.0</td>\n",
       "      <td>0.0</td>\n",
       "      <td>1.0</td>\n",
       "    </tr>\n",
       "    <tr>\n",
       "      <th>4</th>\n",
       "      <td>0.326</td>\n",
       "      <td>17895.0</td>\n",
       "      <td>0.0</td>\n",
       "      <td>0.0</td>\n",
       "      <td>0.0</td>\n",
       "      <td>98.79</td>\n",
       "      <td>11.0</td>\n",
       "      <td>1200.0</td>\n",
       "      <td>5.301139</td>\n",
       "      <td>1.0</td>\n",
       "      <td>0.0</td>\n",
       "      <td>0.0</td>\n",
       "      <td>0.0</td>\n",
       "      <td>0.0</td>\n",
       "      <td>1.0</td>\n",
       "      <td>0.0</td>\n",
       "    </tr>\n",
       "  </tbody>\n",
       "</table>\n",
       "</div>"
      ],
      "text/plain": [
       "   perc_premium_paid_by_cash_credit  age_in_days  Count_3-6_months_late  \\\n",
       "0                             0.917      17531.0                    2.0   \n",
       "1                             1.000      21911.0                    1.0   \n",
       "2                             0.908      23008.0                    2.0   \n",
       "3                             0.000      11687.0                    1.0   \n",
       "4                             0.326      17895.0                    0.0   \n",
       "\n",
       "   Count_6-12_months_late  Count_more_than_12_months_late  \\\n",
       "0                     3.0                             1.0   \n",
       "1                     6.0                             4.0   \n",
       "2                     0.0                             0.0   \n",
       "3                     2.0                             1.0   \n",
       "4                     0.0                             0.0   \n",
       "\n",
       "   application_underwriting_score  no_of_premiums_paid  premium  logIncome  \\\n",
       "0                           98.69                  7.0   3300.0   4.925003   \n",
       "1                           99.33                  3.0   9600.0   5.255851   \n",
       "2                           98.91                 11.0   5400.0   5.030114   \n",
       "3                           99.53                  5.0   9600.0   5.183583   \n",
       "4                           98.79                 11.0   1200.0   5.301139   \n",
       "\n",
       "   sourcing_channel_A  sourcing_channel_B  sourcing_channel_C  \\\n",
       "0                 0.0                 0.0                 1.0   \n",
       "1                 1.0                 0.0                 0.0   \n",
       "2                 1.0                 0.0                 0.0   \n",
       "3                 0.0                 0.0                 1.0   \n",
       "4                 1.0                 0.0                 0.0   \n",
       "\n",
       "   sourcing_channel_D  sourcing_channel_E  residence_area_type_Rural  \\\n",
       "0                 0.0                 0.0                        1.0   \n",
       "1                 0.0                 0.0                        0.0   \n",
       "2                 0.0                 0.0                        1.0   \n",
       "3                 0.0                 0.0                        0.0   \n",
       "4                 0.0                 0.0                        1.0   \n",
       "\n",
       "   residence_area_type_Urban  \n",
       "0                        0.0  \n",
       "1                        1.0  \n",
       "2                        0.0  \n",
       "3                        1.0  \n",
       "4                        0.0  "
      ]
     },
     "execution_count": 2,
     "metadata": {},
     "output_type": "execute_result"
    }
   ],
   "source": [
    "X_train_resampled = pd.read_csv('X_train_smoteenn.csv')\n",
    "y_train_resampled = pd.read_csv('y_train_smoteenn.csv')\n",
    "# double check if the data is correct\n",
    "X_train_resampled.head(5)"
   ]
  },
  {
   "cell_type": "code",
   "execution_count": 3,
   "metadata": {},
   "outputs": [],
   "source": [
    "from sklearn.decomposition import PCA\n",
    "from sklearn.preprocessing import StandardScaler\n",
    "from sklearn.model_selection import train_test_split\n",
    "\n",
    "scaler = StandardScaler()\n",
    "scaler.fit(X_train_resampled.as_matrix())\n",
    "X_scaled = scaler.transform(X_train_resampled)"
   ]
  },
  {
   "cell_type": "code",
   "execution_count": 7,
   "metadata": {},
   "outputs": [
    {
     "name": "stderr",
     "output_type": "stream",
     "text": [
      "/Users/jessie/anaconda3/lib/python3.5/site-packages/sklearn/model_selection/_split.py:2026: FutureWarning: From version 0.21, test_size will always complement train_size unless both are specified.\n",
      "  FutureWarning)\n"
     ]
    }
   ],
   "source": [
    "X_train, X_valid, y_train, y_valid = train_test_split(X_scaled, y_train_resampled['renewal'].values, \n",
    "                                                      random_state=666, train_size=0.80)"
   ]
  },
  {
   "cell_type": "markdown",
   "metadata": {},
   "source": [
    "## Boosting Tree"
   ]
  },
  {
   "cell_type": "code",
   "execution_count": 10,
   "metadata": {},
   "outputs": [],
   "source": [
    "from xgboost import XGBClassifier\n",
    "from sklearn import cross_validation, metrics   #Additional scklearn functions\n",
    "from sklearn.grid_search import GridSearchCV   #Perforing grid search\n",
    "from sklearn.metrics import roc_auc_score, roc_curve, auc"
   ]
  },
  {
   "cell_type": "code",
   "execution_count": 18,
   "metadata": {},
   "outputs": [],
   "source": [
    "from datetime import datetime\n",
    "def timer(start_time=None):\n",
    "    if not start_time:\n",
    "        start_time = datetime.now()\n",
    "        return start_time\n",
    "    elif start_time:\n",
    "        thour, temp_sec = divmod((datetime.now() - start_time).total_seconds(), 3600)\n",
    "        tmin, tsec = divmod(temp_sec, 60)\n",
    "        print('\\n Time taken: %i hours %i minutes and %s seconds.' % (thour, tmin, round(tsec, 2)))\n"
   ]
  },
  {
   "cell_type": "code",
   "execution_count": 19,
   "metadata": {},
   "outputs": [
    {
     "name": "stdout",
     "output_type": "stream",
     "text": [
      "Fitting 3 folds for each of 5 candidates, totalling 15 fits\n",
      "[CV] gamma=5, colsample_bytree=1.0, min_child_weight=5, subsample=1.0, max_depth=3 \n",
      "[CV] gamma=5, colsample_bytree=1.0, min_child_weight=5, subsample=1.0, max_depth=3 \n",
      "[CV] gamma=5, colsample_bytree=1.0, min_child_weight=5, subsample=1.0, max_depth=3 \n",
      "[CV] gamma=1.5, colsample_bytree=0.8, min_child_weight=1, subsample=0.6, max_depth=5 \n",
      "[CV]  gamma=5, colsample_bytree=1.0, min_child_weight=5, subsample=1.0, max_depth=3, score=0.9871318677035797, total=  40.8s\n",
      "[CV] gamma=1.5, colsample_bytree=0.8, min_child_weight=1, subsample=0.6, max_depth=5 \n",
      "[CV]  gamma=5, colsample_bytree=1.0, min_child_weight=5, subsample=1.0, max_depth=3, score=0.9875261782551165, total=  40.9s\n",
      "[CV] gamma=1.5, colsample_bytree=0.8, min_child_weight=1, subsample=0.6, max_depth=5 \n",
      "[CV]  gamma=5, colsample_bytree=1.0, min_child_weight=5, subsample=1.0, max_depth=3, score=0.9873356513914845, total=  41.1s\n",
      "[CV] gamma=1, colsample_bytree=0.8, min_child_weight=5, subsample=0.8, max_depth=5 \n",
      "[CV]  gamma=1.5, colsample_bytree=0.8, min_child_weight=1, subsample=0.6, max_depth=5, score=0.9908454062438282, total=  58.4s\n",
      "[CV] gamma=1, colsample_bytree=0.8, min_child_weight=5, subsample=0.8, max_depth=5 \n",
      "[CV]  gamma=1, colsample_bytree=0.8, min_child_weight=5, subsample=0.8, max_depth=5, score=0.9908645881790707, total=  56.2s\n",
      "[CV]  gamma=1.5, colsample_bytree=0.8, min_child_weight=1, subsample=0.6, max_depth=5, score=0.9908675122269814, total=  56.4s\n",
      "[CV] gamma=1, colsample_bytree=0.8, min_child_weight=5, subsample=0.8, max_depth=5 \n",
      "[CV] gamma=5, colsample_bytree=0.6, min_child_weight=5, subsample=1.0, max_depth=5 \n",
      "[CV]  gamma=1.5, colsample_bytree=0.8, min_child_weight=1, subsample=0.6, max_depth=5, score=0.9905880533404838, total=  56.8s\n",
      "[CV] gamma=5, colsample_bytree=0.6, min_child_weight=5, subsample=1.0, max_depth=5 \n",
      "[CV]  gamma=1, colsample_bytree=0.8, min_child_weight=5, subsample=0.8, max_depth=5, score=0.990622537784392, total=  55.0s\n",
      "[CV] gamma=5, colsample_bytree=0.6, min_child_weight=5, subsample=1.0, max_depth=5 \n",
      "[CV]  gamma=5, colsample_bytree=0.6, min_child_weight=5, subsample=1.0, max_depth=5, score=0.9906922011736887, total=  41.6s\n",
      "[CV]  gamma=5, colsample_bytree=0.6, min_child_weight=5, subsample=1.0, max_depth=5, score=0.99036363741437, total=  41.4s\n",
      "[CV] gamma=1, colsample_bytree=1.0, min_child_weight=1, subsample=0.8, max_depth=4 \n",
      "[CV] gamma=1, colsample_bytree=1.0, min_child_weight=1, subsample=0.8, max_depth=4 \n",
      "[CV]  gamma=1, colsample_bytree=0.8, min_child_weight=5, subsample=0.8, max_depth=5, score=0.9910811754743579, total=  53.4s\n",
      "[CV] gamma=1, colsample_bytree=1.0, min_child_weight=1, subsample=0.8, max_depth=4 \n",
      "[CV]  gamma=5, colsample_bytree=0.6, min_child_weight=5, subsample=1.0, max_depth=5, score=0.9910183235603774, total=  41.5s\n",
      "[CV]  gamma=1, colsample_bytree=1.0, min_child_weight=1, subsample=0.8, max_depth=4, score=0.9889964144121084, total=  46.2s\n",
      "[CV]  gamma=1, colsample_bytree=1.0, min_child_weight=1, subsample=0.8, max_depth=4, score=0.9894934818375479, total=  46.7s\n",
      "[CV]  gamma=1, colsample_bytree=1.0, min_child_weight=1, subsample=0.8, max_depth=4, score=0.989562285849589, total=  41.7s\n"
     ]
    },
    {
     "name": "stderr",
     "output_type": "stream",
     "text": [
      "[Parallel(n_jobs=4)]: Done  15 out of  15 | elapsed:  3.4min finished\n"
     ]
    },
    {
     "name": "stdout",
     "output_type": "stream",
     "text": [
      "\n",
      " Time taken: 0 hours 4 minutes and 10.97 seconds.\n"
     ]
    }
   ],
   "source": [
    "# A parameter grid for XGBoost\n",
    "from sklearn.model_selection import StratifiedKFold\n",
    "from sklearn.model_selection import RandomizedSearchCV, GridSearchCV\n",
    "params = {\n",
    "        'min_child_weight': [1, 5, 10],\n",
    "        'gamma': [0.5, 1, 1.5, 2, 5],\n",
    "        'subsample': [0.6, 0.8, 1.0],\n",
    "        'colsample_bytree': [0.6, 0.8, 1.0],\n",
    "        'max_depth': [3, 4, 5]\n",
    "        }\n",
    "\n",
    "xgb = XGBClassifier(learning_rate=0.02, n_estimators=600, objective='binary:logistic',\n",
    "                    silent=True, nthread=1)\n",
    "\n",
    "folds = 3\n",
    "param_comb = 5\n",
    "\n",
    "skf = StratifiedKFold(n_splits=folds, shuffle = True, random_state = 1001)\n",
    "\n",
    "random_search = RandomizedSearchCV(xgb, param_distributions=params, \n",
    "                                   n_iter=param_comb, scoring='roc_auc', n_jobs=4, cv=skf.split(X_train, y_train), verbose=3, random_state=1001 )\n",
    "\n",
    "# Here we go\n",
    "start_time = timer(None) # timing starts from this point for \"start_time\" variable\n",
    "random_search.fit(X_train, y_train)\n",
    "timer(start_time) # timing ends here for \"start_time\" variable"
   ]
  },
  {
   "cell_type": "code",
   "execution_count": 20,
   "metadata": {},
   "outputs": [
    {
     "name": "stdout",
     "output_type": "stream",
     "text": [
      "\n",
      " All results:\n",
      "{'param_gamma': masked_array(data=[5, 1.5, 1, 5, 1],\n",
      "             mask=[False, False, False, False, False],\n",
      "       fill_value='?',\n",
      "            dtype=object), 'param_subsample': masked_array(data=[1.0, 0.6, 0.8, 1.0, 0.8],\n",
      "             mask=[False, False, False, False, False],\n",
      "       fill_value='?',\n",
      "            dtype=object), 'std_score_time': array([0.03795894, 0.00210889, 0.06709899, 0.07216187, 0.10030364]), 'split2_test_score': array([0.98733565, 0.99086751, 0.99108118, 0.99101832, 0.98956229]), 'mean_test_score': array([0.98733123, 0.99076699, 0.9908561 , 0.99069138, 0.98935073]), 'split0_test_score': array([0.98752618, 0.99084541, 0.99086459, 0.9906922 , 0.98949348]), 'mean_score_time': array([0.88726195, 1.55174931, 1.43664773, 1.33886504, 0.96439298]), 'mean_fit_time': array([40.05604601, 55.62294499, 53.41643667, 40.15449301, 43.88735302]), 'mean_train_score': array([0.98799838, 0.9925469 , 0.99244494, 0.99201701, 0.99052882]), 'split1_test_score': array([0.98713187, 0.99058805, 0.99062254, 0.99036364, 0.98899641]), 'param_colsample_bytree': masked_array(data=[1.0, 0.8, 0.8, 0.6, 1.0],\n",
      "             mask=[False, False, False, False, False],\n",
      "       fill_value='?',\n",
      "            dtype=object), 'rank_test_score': array([5, 2, 1, 3, 4], dtype=int32), 'param_max_depth': masked_array(data=[3, 5, 5, 5, 4],\n",
      "             mask=[False, False, False, False, False],\n",
      "       fill_value='?',\n",
      "            dtype=object), 'std_test_score': array([0.00016101, 0.00012685, 0.00018733, 0.00026727, 0.00025211]), 'std_train_score': array([1.14246054e-04, 8.57552349e-05, 3.33626520e-05, 4.37769198e-05,\n",
      "       6.05070358e-05]), 'std_fit_time': array([0.12474436, 0.86524127, 1.04754814, 0.0994201 , 2.15624606]), 'param_min_child_weight': masked_array(data=[5, 1, 5, 5, 1],\n",
      "             mask=[False, False, False, False, False],\n",
      "       fill_value='?',\n",
      "            dtype=object), 'params': [{'gamma': 5, 'colsample_bytree': 1.0, 'min_child_weight': 5, 'subsample': 1.0, 'max_depth': 3}, {'gamma': 1.5, 'colsample_bytree': 0.8, 'min_child_weight': 1, 'subsample': 0.6, 'max_depth': 5}, {'gamma': 1, 'colsample_bytree': 0.8, 'min_child_weight': 5, 'subsample': 0.8, 'max_depth': 5}, {'gamma': 5, 'colsample_bytree': 0.6, 'min_child_weight': 5, 'subsample': 1.0, 'max_depth': 5}, {'gamma': 1, 'colsample_bytree': 1.0, 'min_child_weight': 1, 'subsample': 0.8, 'max_depth': 4}], 'split2_train_score': array([0.98784196, 0.99243673, 0.99239788, 0.99203241, 0.99056059]), 'split0_train_score': array([0.98811162, 0.99264589, 0.99246545, 0.99195738, 0.99058174]), 'split1_train_score': array([0.98804157, 0.99255807, 0.99247147, 0.99206124, 0.99044412])}\n",
      "\n",
      " Best estimator:\n",
      "XGBClassifier(base_score=0.5, booster='gbtree', colsample_bylevel=1,\n",
      "       colsample_bytree=0.8, gamma=1, learning_rate=0.02, max_delta_step=0,\n",
      "       max_depth=5, min_child_weight=5, missing=None, n_estimators=600,\n",
      "       n_jobs=1, nthread=1, objective='binary:logistic', random_state=0,\n",
      "       reg_alpha=0, reg_lambda=1, scale_pos_weight=1, seed=None,\n",
      "       silent=True, subsample=0.8)\n",
      "\n",
      " Best normalized gini score for 3-fold search with 5 parameter combinations:\n",
      "0.9817121962976925\n",
      "\n",
      " Best hyperparameters:\n",
      "{'gamma': 1, 'colsample_bytree': 0.8, 'min_child_weight': 5, 'subsample': 0.8, 'max_depth': 5}\n"
     ]
    }
   ],
   "source": [
    "print('\\n All results:')\n",
    "print(random_search.cv_results_)\n",
    "print('\\n Best estimator:')\n",
    "print(random_search.best_estimator_)\n",
    "print('\\n Best normalized gini score for %d-fold search with %d parameter combinations:' % (folds, param_comb))\n",
    "print(random_search.best_score_ * 2 - 1)\n",
    "print('\\n Best hyperparameters:')\n",
    "print(random_search.best_params_)"
   ]
  },
  {
   "cell_type": "code",
   "execution_count": 21,
   "metadata": {},
   "outputs": [],
   "source": [
    "#modelXGBoost = XGBClassifier() \n",
    "#modelXGBoost.fit(X_train,y_train) # train \n",
    "modelXGBoost = random_search.best_estimator_\n",
    "\n",
    "\n",
    "y_train_prob = modelXGBoost.predict_proba(X_train)[:, 1]\n",
    "y_valid_prob = modelXGBoost.predict_proba(X_valid)[:, 1] # validate with ROC curve\n",
    "# note: [:, 0] because we only one possibility since the other is correlated\n",
    "\n",
    "fpr, tpr, threshold = roc_curve(y_train, y_train_prob, pos_label=1)\n",
    "fpr_test, tpr_test, threshold_test = roc_curve(y_valid, y_valid_prob, pos_label=1)"
   ]
  },
  {
   "cell_type": "code",
   "execution_count": 22,
   "metadata": {},
   "outputs": [
    {
     "data": {
      "image/png": "[encoded data removed]",
      "text/plain": [
       "<Figure size 360x360 with 1 Axes>"
      ]
     },
     "metadata": {},
     "output_type": "display_data"
    }
   ],
   "source": [
    "roc_auc = auc(fpr, tpr)\n",
    "roc_auc_test = auc(fpr_test, tpr_test)\n",
    "\n",
    "# plot ROC\n",
    "plt.figure(figsize=(5, 5))\n",
    "plt.plot(fpr, tpr, \\\n",
    "         color='darkorange', lw=2, linestyle='-', label='Training ROC Curve (area = {0:.2f})'.format(roc_auc))\n",
    "plt.plot(fpr_test, tpr_test, \\\n",
    "         color='deeppink', lw=2, linestyle='-', label='Testing ROC Curve (area = {0:.2f})'.format(roc_auc_test))\n",
    "plt.plot([0,1], [0,1], 'k--')\n",
    "plt.xlim([0.0, 1.0])\n",
    "plt.ylim([0.0, 1.05])\n",
    "plt.xlabel('False Positive Rate')\n",
    "plt.ylabel('True Positive Rate')\n",
    "plt.title('Receiver Operating Characteristic')\n",
    "plt.legend(loc='lower right')\n",
    "plt.show()"
   ]
  },
  {
   "cell_type": "markdown",
   "metadata": {},
   "source": [
    "## Generating Results"
   ]
  },
  {
   "cell_type": "code",
   "execution_count": 26,
   "metadata": {},
   "outputs": [],
   "source": [
    "df_test = pd.read_csv('processed_test.csv')\n",
    "X_test = df_test.drop('id',1).as_matrix()\n",
    "X_test_scaled = scaler.transform(X_test)"
   ]
  },
  {
   "cell_type": "code",
   "execution_count": 27,
   "metadata": {},
   "outputs": [
    {
     "name": "stderr",
     "output_type": "stream",
     "text": [
      "/Users/jessie/anaconda3/lib/python3.5/site-packages/sklearn/preprocessing/label.py:151: DeprecationWarning: The truth value of an empty array is ambiguous. Returning False, but in future this will result in an error. Use `array.size > 0` to check that an array is not empty.\n",
      "  if diff:\n"
     ]
    }
   ],
   "source": [
    "result = modelXGBoost.predict(X_test_scaled)\n",
    "df_test['renewal'] = result\n",
    "result_proba = modelXGBoost.predict_proba(X_test_scaled)[:, 1]\n",
    "df_test['renewal_proba'] = result_proba"
   ]
  },
  {
   "cell_type": "code",
   "execution_count": 28,
   "metadata": {},
   "outputs": [],
   "source": [
    "def net_revenue_neg(incentive,proba,premium):\n",
    "    effort = 10*(1-np.exp(-incentive/400))\n",
    "    delta_p = 20*(1-np.exp(-effort/5))\n",
    "    revenue = (proba+delta_p)*premium - incentive\n",
    "    return -revenue\n",
    "\n",
    "def constraint_1(incentive,proba):\n",
    "    \"\"\"\n",
    "    final probability of renewal can't be larger than 1\n",
    "    \"\"\"\n",
    "    effort = 10*(1-np.exp(-incentive/400))\n",
    "    delta_p = 20*(1-np.exp(-effort/5))\n",
    "    return 1- (proba + delta_p)"
   ]
  },
  {
   "cell_type": "code",
   "execution_count": null,
   "metadata": {},
   "outputs": [],
   "source": [
    "import scipy.optimize as optimize\n",
    "x_start = 1650\n",
    "bound = [(0,10000)]\n",
    "\n",
    "opt_incent = np.zeros([df_test.shape[0],1])\n",
    "for i,r in df_test.iterrows():\n",
    "    # randomly choose x_start\n",
    "    x_start = np.random.randint(low = 0, high=1000, size=1, dtype='l')\n",
    "    constraints = ({'type': 'ineq', 'fun':  lambda x, proba = r.renewal_proba:  constraint_1(x,proba = r.renewal_proba)})\n",
    "    opt_result = optimize.minimize(net_revenue_neg, x_start, args=(r.renewal_proba, r.premium),\n",
    "                                   bounds = bound, constraints =  constraints, method='SLSQP')\n",
    "    if opt_result['x']:\n",
    "        opt_incent[i] = opt_result['x']\n",
    "    else:\n",
    "        opt_incent[i] = 0"
   ]
  },
  {
   "cell_type": "code",
   "execution_count": null,
   "metadata": {},
   "outputs": [],
   "source": [
    "df_test['incentives'] = opt_incent\n",
    "df_test[['id','renewal','incentives']].to_csv('result_XGBoost.csv',index = False)"
   ]
  },
  {
   "cell_type": "code",
   "execution_count": null,
   "metadata": {},
   "outputs": [],
   "source": []
  }
 ],
 "metadata": {
  "kernelspec": {
   "display_name": "Python 3",
   "language": "python",
   "name": "python3"
  },
  "language_info": {
   "codemirror_mode": {
    "name": "ipython",
    "version": 3
   },
   "file_extension": ".py",
   "mimetype": "text/x-python",
   "name": "python",
   "nbconvert_exporter": "python",
   "pygments_lexer": "ipython3",
   "version": "3.5.5"
  }
 },
 "nbformat": 4,
 "nbformat_minor": 2
}
