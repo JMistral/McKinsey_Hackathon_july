{
 "cells": [
  {
   "cell_type": "code",
   "execution_count": 1,
   "metadata": {},
   "outputs": [],
   "source": [
    "import numpy as np\n",
    "import pandas as pd\n",
    "\n",
    "import matplotlib.pyplot as plt\n",
    "% matplotlib inline"
   ]
  },
  {
   "cell_type": "code",
   "execution_count": 9,
   "metadata": {},
   "outputs": [
    {
     "data": {
      "text/html": [
       "<div>\n",
       "<style scoped>\n",
       "    .dataframe tbody tr th:only-of-type {\n",
       "        vertical-align: middle;\n",
       "    }\n",
       "\n",
       "    .dataframe tbody tr th {\n",
       "        vertical-align: top;\n",
       "    }\n",
       "\n",
       "    .dataframe thead th {\n",
       "        text-align: right;\n",
       "    }\n",
       "</style>\n",
       "<table border=\"1\" class=\"dataframe\">\n",
       "  <thead>\n",
       "    <tr style=\"text-align: right;\">\n",
       "      <th></th>\n",
       "      <th>perc_premium_paid_by_cash_credit</th>\n",
       "      <th>age_in_days</th>\n",
       "      <th>Count_3-6_months_late</th>\n",
       "      <th>Count_6-12_months_late</th>\n",
       "      <th>Count_more_than_12_months_late</th>\n",
       "      <th>application_underwriting_score</th>\n",
       "      <th>no_of_premiums_paid</th>\n",
       "      <th>premium</th>\n",
       "      <th>logIncome</th>\n",
       "      <th>sourcing_channel_A</th>\n",
       "      <th>sourcing_channel_B</th>\n",
       "      <th>sourcing_channel_C</th>\n",
       "      <th>sourcing_channel_D</th>\n",
       "      <th>sourcing_channel_E</th>\n",
       "      <th>residence_area_type_Rural</th>\n",
       "      <th>residence_area_type_Urban</th>\n",
       "    </tr>\n",
       "  </thead>\n",
       "  <tbody>\n",
       "    <tr>\n",
       "      <th>0</th>\n",
       "      <td>0.429</td>\n",
       "      <td>12058.0</td>\n",
       "      <td>0.0</td>\n",
       "      <td>0.0</td>\n",
       "      <td>0.0</td>\n",
       "      <td>99.02</td>\n",
       "      <td>13.0</td>\n",
       "      <td>3300.0</td>\n",
       "      <td>5.550302</td>\n",
       "      <td>0.0</td>\n",
       "      <td>0.0</td>\n",
       "      <td>1.0</td>\n",
       "      <td>0.0</td>\n",
       "      <td>0.0</td>\n",
       "      <td>0.0</td>\n",
       "      <td>1.0</td>\n",
       "    </tr>\n",
       "    <tr>\n",
       "      <th>1</th>\n",
       "      <td>0.010</td>\n",
       "      <td>21546.0</td>\n",
       "      <td>0.0</td>\n",
       "      <td>0.0</td>\n",
       "      <td>0.0</td>\n",
       "      <td>99.89</td>\n",
       "      <td>21.0</td>\n",
       "      <td>18000.0</td>\n",
       "      <td>5.498517</td>\n",
       "      <td>1.0</td>\n",
       "      <td>0.0</td>\n",
       "      <td>0.0</td>\n",
       "      <td>0.0</td>\n",
       "      <td>0.0</td>\n",
       "      <td>0.0</td>\n",
       "      <td>1.0</td>\n",
       "    </tr>\n",
       "    <tr>\n",
       "      <th>2</th>\n",
       "      <td>0.917</td>\n",
       "      <td>17531.0</td>\n",
       "      <td>2.0</td>\n",
       "      <td>3.0</td>\n",
       "      <td>1.0</td>\n",
       "      <td>98.69</td>\n",
       "      <td>7.0</td>\n",
       "      <td>3300.0</td>\n",
       "      <td>4.925003</td>\n",
       "      <td>0.0</td>\n",
       "      <td>0.0</td>\n",
       "      <td>1.0</td>\n",
       "      <td>0.0</td>\n",
       "      <td>0.0</td>\n",
       "      <td>1.0</td>\n",
       "      <td>0.0</td>\n",
       "    </tr>\n",
       "    <tr>\n",
       "      <th>3</th>\n",
       "      <td>0.049</td>\n",
       "      <td>15341.0</td>\n",
       "      <td>0.0</td>\n",
       "      <td>0.0</td>\n",
       "      <td>0.0</td>\n",
       "      <td>99.57</td>\n",
       "      <td>9.0</td>\n",
       "      <td>9600.0</td>\n",
       "      <td>5.398825</td>\n",
       "      <td>1.0</td>\n",
       "      <td>0.0</td>\n",
       "      <td>0.0</td>\n",
       "      <td>0.0</td>\n",
       "      <td>0.0</td>\n",
       "      <td>0.0</td>\n",
       "      <td>1.0</td>\n",
       "    </tr>\n",
       "    <tr>\n",
       "      <th>4</th>\n",
       "      <td>0.052</td>\n",
       "      <td>31400.0</td>\n",
       "      <td>0.0</td>\n",
       "      <td>0.0</td>\n",
       "      <td>0.0</td>\n",
       "      <td>99.87</td>\n",
       "      <td>12.0</td>\n",
       "      <td>9600.0</td>\n",
       "      <td>5.298154</td>\n",
       "      <td>0.0</td>\n",
       "      <td>1.0</td>\n",
       "      <td>0.0</td>\n",
       "      <td>0.0</td>\n",
       "      <td>0.0</td>\n",
       "      <td>0.0</td>\n",
       "      <td>1.0</td>\n",
       "    </tr>\n",
       "  </tbody>\n",
       "</table>\n",
       "</div>"
      ],
      "text/plain": [
       "   perc_premium_paid_by_cash_credit  age_in_days  Count_3-6_months_late  \\\n",
       "0                             0.429      12058.0                    0.0   \n",
       "1                             0.010      21546.0                    0.0   \n",
       "2                             0.917      17531.0                    2.0   \n",
       "3                             0.049      15341.0                    0.0   \n",
       "4                             0.052      31400.0                    0.0   \n",
       "\n",
       "   Count_6-12_months_late  Count_more_than_12_months_late  \\\n",
       "0                     0.0                             0.0   \n",
       "1                     0.0                             0.0   \n",
       "2                     3.0                             1.0   \n",
       "3                     0.0                             0.0   \n",
       "4                     0.0                             0.0   \n",
       "\n",
       "   application_underwriting_score  no_of_premiums_paid  premium  logIncome  \\\n",
       "0                           99.02                 13.0   3300.0   5.550302   \n",
       "1                           99.89                 21.0  18000.0   5.498517   \n",
       "2                           98.69                  7.0   3300.0   4.925003   \n",
       "3                           99.57                  9.0   9600.0   5.398825   \n",
       "4                           99.87                 12.0   9600.0   5.298154   \n",
       "\n",
       "   sourcing_channel_A  sourcing_channel_B  sourcing_channel_C  \\\n",
       "0                 0.0                 0.0                 1.0   \n",
       "1                 1.0                 0.0                 0.0   \n",
       "2                 0.0                 0.0                 1.0   \n",
       "3                 1.0                 0.0                 0.0   \n",
       "4                 0.0                 1.0                 0.0   \n",
       "\n",
       "   sourcing_channel_D  sourcing_channel_E  residence_area_type_Rural  \\\n",
       "0                 0.0                 0.0                        0.0   \n",
       "1                 0.0                 0.0                        0.0   \n",
       "2                 0.0                 0.0                        1.0   \n",
       "3                 0.0                 0.0                        0.0   \n",
       "4                 0.0                 0.0                        0.0   \n",
       "\n",
       "   residence_area_type_Urban  \n",
       "0                        1.0  \n",
       "1                        1.0  \n",
       "2                        0.0  \n",
       "3                        1.0  \n",
       "4                        1.0  "
      ]
     },
     "execution_count": 9,
     "metadata": {},
     "output_type": "execute_result"
    }
   ],
   "source": [
    "X_train = pd.read_csv('X_train_origin.csv')\n",
    "y_train= pd.read_csv('y_train_origin.csv')\n",
    "# double check if the data is correct\n",
    "X_train.head(5)"
   ]
  },
  {
   "cell_type": "code",
   "execution_count": 10,
   "metadata": {},
   "outputs": [
    {
     "data": {
      "text/plain": [
       "(79853, 1)"
      ]
     },
     "execution_count": 10,
     "metadata": {},
     "output_type": "execute_result"
    }
   ],
   "source": [
    "y_train.shape"
   ]
  },
  {
   "cell_type": "code",
   "execution_count": 11,
   "metadata": {},
   "outputs": [],
   "source": [
    "from sklearn.decomposition import PCA\n",
    "from sklearn.preprocessing import StandardScaler\n",
    "from sklearn.model_selection import train_test_split\n",
    "\n",
    "scaler = StandardScaler()\n",
    "scaler.fit(X_train.as_matrix())\n",
    "X_scaled = scaler.transform(X_train)"
   ]
  },
  {
   "cell_type": "code",
   "execution_count": 12,
   "metadata": {},
   "outputs": [
    {
     "name": "stderr",
     "output_type": "stream",
     "text": [
      "/Users/jessie/anaconda3/lib/python3.5/site-packages/sklearn/model_selection/_split.py:2026: FutureWarning: From version 0.21, test_size will always complement train_size unless both are specified.\n",
      "  FutureWarning)\n"
     ]
    }
   ],
   "source": [
    "X_train, X_valid, y_train, y_valid = train_test_split(X_scaled, y_train['renewal'].values, \n",
    "                                                      random_state=666, train_size=0.80)"
   ]
  },
  {
   "cell_type": "markdown",
   "metadata": {},
   "source": [
    "## Boosting Tree"
   ]
  },
  {
   "cell_type": "code",
   "execution_count": 13,
   "metadata": {},
   "outputs": [
    {
     "name": "stderr",
     "output_type": "stream",
     "text": [
      "/Users/jessie/anaconda3/lib/python3.5/site-packages/sklearn/cross_validation.py:41: DeprecationWarning: This module was deprecated in version 0.18 in favor of the model_selection module into which all the refactored classes and functions are moved. Also note that the interface of the new CV iterators are different from that of this module. This module will be removed in 0.20.\n",
      "  \"This module will be removed in 0.20.\", DeprecationWarning)\n",
      "/Users/jessie/anaconda3/lib/python3.5/site-packages/sklearn/grid_search.py:42: DeprecationWarning: This module was deprecated in version 0.18 in favor of the model_selection module into which all the refactored classes and functions are moved. This module will be removed in 0.20.\n",
      "  DeprecationWarning)\n"
     ]
    }
   ],
   "source": [
    "from xgboost import XGBClassifier\n",
    "from sklearn import cross_validation, metrics   #Additional scklearn functions\n",
    "from sklearn.grid_search import GridSearchCV   #Perforing grid search\n",
    "from sklearn.metrics import roc_auc_score, roc_curve, auc"
   ]
  },
  {
   "cell_type": "code",
   "execution_count": 14,
   "metadata": {},
   "outputs": [],
   "source": [
    "from datetime import datetime\n",
    "def timer(start_time=None):\n",
    "    if not start_time:\n",
    "        start_time = datetime.now()\n",
    "        return start_time\n",
    "    elif start_time:\n",
    "        thour, temp_sec = divmod((datetime.now() - start_time).total_seconds(), 3600)\n",
    "        tmin, tsec = divmod(temp_sec, 60)\n",
    "        print('\\n Time taken: %i hours %i minutes and %s seconds.' % (thour, tmin, round(tsec, 2)))\n"
   ]
  },
  {
   "cell_type": "code",
   "execution_count": 15,
   "metadata": {},
   "outputs": [
    {
     "name": "stdout",
     "output_type": "stream",
     "text": [
      "Fitting 3 folds for each of 5 candidates, totalling 15 fits\n",
      "[CV] min_child_weight=5, gamma=5, subsample=1.0, colsample_bytree=1.0, max_depth=3 \n",
      "[CV] min_child_weight=5, gamma=5, subsample=1.0, colsample_bytree=1.0, max_depth=3 \n",
      "[CV] min_child_weight=5, gamma=5, subsample=1.0, colsample_bytree=1.0, max_depth=3 \n",
      "[CV] min_child_weight=1, gamma=1.5, subsample=0.6, colsample_bytree=0.8, max_depth=5 \n",
      "[CV]  min_child_weight=5, gamma=5, subsample=1.0, colsample_bytree=1.0, max_depth=3, score=0.8379823326905582, total=  20.1s\n",
      "[CV] min_child_weight=1, gamma=1.5, subsample=0.6, colsample_bytree=0.8, max_depth=5 \n",
      "[CV]  min_child_weight=5, gamma=5, subsample=1.0, colsample_bytree=1.0, max_depth=3, score=0.8472358462164545, total=  20.3s\n",
      "[CV] min_child_weight=1, gamma=1.5, subsample=0.6, colsample_bytree=0.8, max_depth=5 \n",
      "[CV]  min_child_weight=5, gamma=5, subsample=1.0, colsample_bytree=1.0, max_depth=3, score=0.8320148022487245, total=  20.1s\n",
      "[CV] min_child_weight=5, gamma=1, subsample=0.8, colsample_bytree=0.8, max_depth=5 \n",
      "[CV]  min_child_weight=1, gamma=1.5, subsample=0.6, colsample_bytree=0.8, max_depth=5, score=0.8381926073773739, total=  33.8s\n",
      "[CV] min_child_weight=5, gamma=1, subsample=0.8, colsample_bytree=0.8, max_depth=5 \n",
      "[CV]  min_child_weight=5, gamma=1, subsample=0.8, colsample_bytree=0.8, max_depth=5, score=0.8377030190755447, total=  28.7s\n",
      "[CV] min_child_weight=5, gamma=1, subsample=0.8, colsample_bytree=0.8, max_depth=5 \n",
      "[CV]  min_child_weight=1, gamma=1.5, subsample=0.6, colsample_bytree=0.8, max_depth=5, score=0.8307756040712618, total=  30.8s\n",
      "[CV] min_child_weight=5, gamma=5, subsample=1.0, colsample_bytree=0.6, max_depth=5 \n",
      "[CV]  min_child_weight=1, gamma=1.5, subsample=0.6, colsample_bytree=0.8, max_depth=5, score=0.8466367035447431, total=  31.0s\n",
      "[CV] min_child_weight=5, gamma=5, subsample=1.0, colsample_bytree=0.6, max_depth=5 \n",
      "[CV]  min_child_weight=5, gamma=1, subsample=0.8, colsample_bytree=0.8, max_depth=5, score=0.8469491245932343, total=  27.4s\n",
      "[CV] min_child_weight=5, gamma=5, subsample=1.0, colsample_bytree=0.6, max_depth=5 \n",
      "[CV]  min_child_weight=5, gamma=5, subsample=1.0, colsample_bytree=0.6, max_depth=5, score=0.8485355487914652, total=  18.5s\n",
      "[CV] min_child_weight=1, gamma=1, subsample=0.8, colsample_bytree=1.0, max_depth=4 \n",
      "[CV]  min_child_weight=5, gamma=5, subsample=1.0, colsample_bytree=0.6, max_depth=5, score=0.8389164288217915, total=  18.8s\n",
      "[CV] min_child_weight=1, gamma=1, subsample=0.8, colsample_bytree=1.0, max_depth=4 \n",
      "[CV]  min_child_weight=5, gamma=1, subsample=0.8, colsample_bytree=0.8, max_depth=5, score=0.8310625045656164, total=  27.1s\n",
      "[CV] min_child_weight=1, gamma=1, subsample=0.8, colsample_bytree=1.0, max_depth=4 \n",
      "[CV]  min_child_weight=5, gamma=5, subsample=1.0, colsample_bytree=0.6, max_depth=5, score=0.8322819262907967, total=  18.9s\n",
      "[CV]  min_child_weight=1, gamma=1, subsample=0.8, colsample_bytree=1.0, max_depth=4, score=0.8384882021529404, total=  23.4s\n",
      "[CV]  min_child_weight=1, gamma=1, subsample=0.8, colsample_bytree=1.0, max_depth=4, score=0.8470356214079428, total=  23.3s\n",
      "[CV]  min_child_weight=1, gamma=1, subsample=0.8, colsample_bytree=1.0, max_depth=4, score=0.8324128861470589, total=  20.9s\n"
     ]
    },
    {
     "name": "stderr",
     "output_type": "stream",
     "text": [
      "[Parallel(n_jobs=4)]: Done  15 out of  15 | elapsed:  1.7min finished\n"
     ]
    },
    {
     "name": "stdout",
     "output_type": "stream",
     "text": [
      "\n",
      " Time taken: 0 hours 1 minutes and 59.85 seconds.\n"
     ]
    }
   ],
   "source": [
    "# A parameter grid for XGBoost\n",
    "from sklearn.model_selection import StratifiedKFold\n",
    "from sklearn.model_selection import RandomizedSearchCV, GridSearchCV\n",
    "params = {\n",
    "        'min_child_weight': [1, 5, 10],\n",
    "        'gamma': [0.5, 1, 1.5, 2, 5],\n",
    "        'subsample': [0.6, 0.8, 1.0],\n",
    "        'colsample_bytree': [0.6, 0.8, 1.0],\n",
    "        'max_depth': [3, 4, 5]\n",
    "        }\n",
    "\n",
    "xgb = XGBClassifier(learning_rate=0.02, n_estimators=600, objective='binary:logistic',\n",
    "                    silent=True, nthread=1)\n",
    "\n",
    "folds = 3\n",
    "param_comb = 5\n",
    "\n",
    "skf = StratifiedKFold(n_splits=folds, shuffle = True, random_state = 1001)\n",
    "\n",
    "random_search = RandomizedSearchCV(xgb, param_distributions=params, \n",
    "                                   n_iter=param_comb, scoring='roc_auc', n_jobs=4, cv=skf.split(X_train, y_train), verbose=3, random_state=1001 )\n",
    "\n",
    "# Here we go\n",
    "start_time = timer(None) # timing starts from this point for \"start_time\" variable\n",
    "random_search.fit(X_train, y_train)\n",
    "timer(start_time) # timing ends here for \"start_time\" variable"
   ]
  },
  {
   "cell_type": "code",
   "execution_count": 16,
   "metadata": {},
   "outputs": [
    {
     "name": "stdout",
     "output_type": "stream",
     "text": [
      "\n",
      " All results:\n",
      "{'std_train_score': array([0.00278614, 0.00202636, 0.00195105, 0.00369368, 0.00207026]), 'param_subsample': masked_array(data=[1.0, 0.6, 0.8, 1.0, 0.8],\n",
      "             mask=[False, False, False, False, False],\n",
      "       fill_value='?',\n",
      "            dtype=object), 'param_min_child_weight': masked_array(data=[5, 1, 5, 5, 1],\n",
      "             mask=[False, False, False, False, False],\n",
      "       fill_value='?',\n",
      "            dtype=object), 'param_colsample_bytree': masked_array(data=[1.0, 0.8, 0.8, 0.6, 1.0],\n",
      "             mask=[False, False, False, False, False],\n",
      "       fill_value='?',\n",
      "            dtype=object), 'rank_test_score': array([3, 5, 4, 1, 2], dtype=int32), 'split0_train_score': array([0.85071601, 0.88843131, 0.88183661, 0.86252047, 0.87139038]), 'mean_fit_time': array([19.62052536, 30.85175625, 26.66322335, 18.07443531, 21.89041471]), 'std_test_score': array([0.00626199, 0.00647972, 0.00651463, 0.00667263, 0.00599801]), 'std_score_time': array([0.01909741, 0.03555923, 0.1003208 , 0.01471935, 0.03797367]), 'mean_test_score': array([0.83907775, 0.83853509, 0.83857165, 0.83991141, 0.83931233]), 'split1_test_score': array([0.84723585, 0.8466367 , 0.84694912, 0.84853555, 0.84703562]), 'mean_score_time': array([0.56336689, 1.02515936, 1.04560073, 0.671043  , 0.62208899]), 'param_max_depth': masked_array(data=[3, 5, 5, 5, 4],\n",
      "             mask=[False, False, False, False, False],\n",
      "       fill_value='?',\n",
      "            dtype=object), 'mean_train_score': array([0.85004724, 0.88929078, 0.88221094, 0.86286666, 0.87168765]), 'split1_train_score': array([0.84635006, 0.887353  , 0.88003066, 0.85852588, 0.86931385]), 'split0_test_score': array([0.83798233, 0.83819261, 0.83770302, 0.83891643, 0.8384882 ]), 'params': [{'min_child_weight': 5, 'gamma': 5, 'subsample': 1.0, 'colsample_bytree': 1.0, 'max_depth': 3}, {'min_child_weight': 1, 'gamma': 1.5, 'subsample': 0.6, 'colsample_bytree': 0.8, 'max_depth': 5}, {'min_child_weight': 5, 'gamma': 1, 'subsample': 0.8, 'colsample_bytree': 0.8, 'max_depth': 5}, {'min_child_weight': 5, 'gamma': 5, 'subsample': 1.0, 'colsample_bytree': 0.6, 'max_depth': 5}, {'min_child_weight': 1, 'gamma': 1, 'subsample': 0.8, 'colsample_bytree': 1.0, 'max_depth': 4}], 'param_gamma': masked_array(data=[5, 1.5, 1, 5, 1],\n",
      "             mask=[False, False, False, False, False],\n",
      "       fill_value='?',\n",
      "            dtype=object), 'std_fit_time': array([0.04849806, 1.38926122, 0.60459558, 0.13829426, 1.09751957]), 'split2_train_score': array([0.85307566, 0.89208804, 0.88476554, 0.86755363, 0.87435873]), 'split2_test_score': array([0.8320148 , 0.8307756 , 0.8310625 , 0.83228193, 0.83241289])}\n",
      "\n",
      " Best estimator:\n",
      "XGBClassifier(base_score=0.5, booster='gbtree', colsample_bylevel=1,\n",
      "       colsample_bytree=0.6, gamma=5, learning_rate=0.02, max_delta_step=0,\n",
      "       max_depth=5, min_child_weight=5, missing=None, n_estimators=600,\n",
      "       n_jobs=1, nthread=1, objective='binary:logistic', random_state=0,\n",
      "       reg_alpha=0, reg_lambda=1, scale_pos_weight=1, seed=None,\n",
      "       silent=True, subsample=1.0)\n",
      "\n",
      " Best normalized gini score for 3-fold search with 5 parameter combinations:\n",
      "0.6798228103138737\n",
      "\n",
      " Best hyperparameters:\n",
      "{'min_child_weight': 5, 'gamma': 5, 'subsample': 1.0, 'colsample_bytree': 0.6, 'max_depth': 5}\n"
     ]
    }
   ],
   "source": [
    "print('\\n All results:')\n",
    "print(random_search.cv_results_)\n",
    "print('\\n Best estimator:')\n",
    "print(random_search.best_estimator_)\n",
    "print('\\n Best normalized gini score for %d-fold search with %d parameter combinations:' % (folds, param_comb))\n",
    "print(random_search.best_score_ * 2 - 1)\n",
    "print('\\n Best hyperparameters:')\n",
    "print(random_search.best_params_)"
   ]
  },
  {
   "cell_type": "code",
   "execution_count": 17,
   "metadata": {},
   "outputs": [],
   "source": [
    "#modelXGBoost = XGBClassifier() \n",
    "#modelXGBoost.fit(X_train,y_train) # train \n",
    "modelXGBoost = random_search.best_estimator_\n",
    "\n",
    "\n",
    "y_train_prob = modelXGBoost.predict_proba(X_train)[:, 1]\n",
    "y_valid_prob = modelXGBoost.predict_proba(X_valid)[:, 1] # validate with ROC curve\n",
    "# note: [:, 0] because we only one possibility since the other is correlated\n",
    "\n",
    "fpr, tpr, threshold = roc_curve(y_train, y_train_prob, pos_label=1)\n",
    "fpr_test, tpr_test, threshold_test = roc_curve(y_valid, y_valid_prob, pos_label=1)"
   ]
  },
  {
   "cell_type": "code",
   "execution_count": 18,
   "metadata": {},
   "outputs": [
    {
     "data": {
      "image/png": "[encoded data removed]",
      "text/plain": [
       "<Figure size 360x360 with 1 Axes>"
      ]
     },
     "metadata": {},
     "output_type": "display_data"
    }
   ],
   "source": [
    "roc_auc = auc(fpr, tpr)\n",
    "roc_auc_test = auc(fpr_test, tpr_test)\n",
    "\n",
    "# plot ROC\n",
    "plt.figure(figsize=(5, 5))\n",
    "plt.plot(fpr, tpr, \\\n",
    "         color='darkorange', lw=2, linestyle='-', label='Training ROC Curve (area = {0:.2f})'.format(roc_auc))\n",
    "plt.plot(fpr_test, tpr_test, \\\n",
    "         color='deeppink', lw=2, linestyle='-', label='Testing ROC Curve (area = {0:.2f})'.format(roc_auc_test))\n",
    "plt.plot([0,1], [0,1], 'k--')\n",
    "plt.xlim([0.0, 1.0])\n",
    "plt.ylim([0.0, 1.05])\n",
    "plt.xlabel('False Positive Rate')\n",
    "plt.ylabel('True Positive Rate')\n",
    "plt.title('Receiver Operating Characteristic')\n",
    "plt.legend(loc='lower right')\n",
    "plt.show()"
   ]
  },
  {
   "cell_type": "markdown",
   "metadata": {},
   "source": [
    "## Generating Results"
   ]
  },
  {
   "cell_type": "code",
   "execution_count": 19,
   "metadata": {},
   "outputs": [],
   "source": [
    "df_test = pd.read_csv('processed_test.csv')\n",
    "X_test = df_test.drop('id',1).as_matrix()\n",
    "X_test_scaled = scaler.transform(X_test)"
   ]
  },
  {
   "cell_type": "code",
   "execution_count": 20,
   "metadata": {},
   "outputs": [
    {
     "name": "stderr",
     "output_type": "stream",
     "text": [
      "/Users/jessie/anaconda3/lib/python3.5/site-packages/sklearn/preprocessing/label.py:151: DeprecationWarning: The truth value of an empty array is ambiguous. Returning False, but in future this will result in an error. Use `array.size > 0` to check that an array is not empty.\n",
      "  if diff:\n"
     ]
    }
   ],
   "source": [
    "result = modelXGBoost.predict(X_test_scaled)\n",
    "df_test['renewal'] = result\n",
    "result_proba = modelXGBoost.predict_proba(X_test_scaled)[:, 1]\n",
    "df_test['renewal_proba'] = result_proba"
   ]
  },
  {
   "cell_type": "code",
   "execution_count": 21,
   "metadata": {},
   "outputs": [],
   "source": [
    "def net_revenue_neg(incentive,proba,premium):\n",
    "    effort = 10*(1-np.exp(-incentive/400))\n",
    "    delta_p = 20*(1-np.exp(-effort/5))\n",
    "    revenue = (proba+delta_p)*premium - incentive\n",
    "    return -revenue\n",
    "\n",
    "def constraint_1(incentive,proba):\n",
    "    \"\"\"\n",
    "    final probability of renewal can't be larger than 1\n",
    "    \"\"\"\n",
    "    effort = 10*(1-np.exp(-incentive/400))\n",
    "    delta_p = 20*(1-np.exp(-effort/5))\n",
    "    return 1- (proba + delta_p)"
   ]
  },
  {
   "cell_type": "code",
   "execution_count": 22,
   "metadata": {},
   "outputs": [],
   "source": [
    "import scipy.optimize as optimize\n",
    "x_start = 1650\n",
    "bound = [(0,10000)]\n",
    "\n",
    "opt_incent = np.zeros([df_test.shape[0],1])\n",
    "for i,r in df_test.iterrows():\n",
    "    # randomly choose x_start\n",
    "    x_start = np.random.randint(low = 0, high=1000, size=1, dtype='l')\n",
    "    constraints = ({'type': 'ineq', 'fun':  lambda x, proba = r.renewal_proba:  constraint_1(x,proba = r.renewal_proba)})\n",
    "    opt_result = optimize.minimize(net_revenue_neg, x_start, args=(r.renewal_proba, r.premium),\n",
    "                                   bounds = bound, constraints =  constraints, method='SLSQP')\n",
    "    if opt_result['x']:\n",
    "        opt_incent[i] = opt_result['x']\n",
    "    else:\n",
    "        opt_incent[i] = 0"
   ]
  },
  {
   "cell_type": "code",
   "execution_count": 23,
   "metadata": {},
   "outputs": [],
   "source": [
    "df_test['incentives'] = opt_incent\n",
    "df_test[['id','renewal','incentives']].to_csv('result_XGBoost.csv',index = False)"
   ]
  },
  {
   "cell_type": "code",
   "execution_count": null,
   "metadata": {},
   "outputs": [],
   "source": []
  }
 ],
 "metadata": {
  "kernelspec": {
   "display_name": "Python 3",
   "language": "python",
   "name": "python3"
  },
  "language_info": {
   "codemirror_mode": {
    "name": "ipython",
    "version": 3
   },
   "file_extension": ".py",
   "mimetype": "text/x-python",
   "name": "python",
   "nbconvert_exporter": "python",
   "pygments_lexer": "ipython3",
   "version": "3.5.5"
  }
 },
 "nbformat": 4,
 "nbformat_minor": 2
}
